{
  "nbformat": 4,
  "nbformat_minor": 0,
  "metadata": {
    "colab": {
      "name": "COP509Main.ipynb",
      "provenance": [],
      "collapsed_sections": [],
      "toc_visible": true,
      "authorship_tag": "ABX9TyMr+85FUbMn9mECnSzzMlqn",
      "include_colab_link": true
    },
    "kernelspec": {
      "name": "python3",
      "display_name": "Python 3"
    },
    "language_info": {
      "name": "python"
    }
  },
  "cells": [
    {
      "cell_type": "markdown",
      "metadata": {
        "id": "view-in-github",
        "colab_type": "text"
      },
      "source": [
        "<a href=\"https://colab.research.google.com/github/gcosma/ACO-FS/blob/master/COP509Main.ipynb\" target=\"_parent\"><img src=\"https://colab.research.google.com/assets/colab-badge.svg\" alt=\"Open In Colab\"/></a>"
      ]
    },
    {
      "cell_type": "markdown",
      "metadata": {
        "id": "HEBRoF3iX7j6"
      },
      "source": [
        "**Introduction to COP509: Natural Language Processing**"
      ]
    },
    {
      "cell_type": "markdown",
      "metadata": {
        "id": "GIWisEFV1g-i"
      },
      "source": [
        "**Module Overview**\n",
        "\n",
        "| Day               | Topic          | \n",
        "| ---------                 | :------------------: | \n",
        "| Day 1     | Introduction to NLP and Deep Learning|   \n",
        "| Day 2     | Bag of Words|      \n",
        "| Day 3     | LSI for Information Retrieval; Evaluation Metrics|   \n",
        "| Day 4     | NLP with Deep Learning and Word Embeddings|   \n",
        "| Day 5     | Sentiment Analysis with BERT|   \n",
        "| Day 6     | Text Summarisation|  \n",
        "| Day 7     | Coursework|   \n",
        "\n",
        "\n",
        "\n"
      ]
    },
    {
      "cell_type": "markdown",
      "metadata": {
        "id": "B7mUqoa7YCl4"
      },
      "source": [
        "# Day 1 Monday: Introduction to NLP and Deep Learning"
      ]
    },
    {
      "cell_type": "markdown",
      "metadata": {
        "id": "JjFcjehabwXB"
      },
      "source": [
        "**Lecture Material**\n",
        "\n",
        "Webpage: [Introduction to NLP and Deep Learning](https://colab.research.google.com/drive/1aYx36QCuNGl11g9r2sIRqIZa1Lp9KrwM?usp=sharing) (save and turn into Github with slides)\n",
        "\n",
        "Colab page: [Cleaning Text Data- Lecture](https://colab.research.google.com/drive/1zB8-3HelwNngZ1PuKi6756L3u5hpZTOy?usp=sharing)\n",
        "\n",
        "**Lab Material**\n",
        "\n",
        "Colab page: [Introduction to Colab for machine learning](https://colab.research.google.com/drive/1pKqHYLsxV91MmGaNFgRPuZb7U34hllUO?usp=sharing)\n",
        "\n",
        "Colab page: [How to Clean Text for Machine Learning with Python](https://colab.research.google.com/drive/1073Shhvrp43KpCCDk5iUJjxxBwP3S3Pr?usp=sharing)\n",
        "\n",
        "\n",
        "\n",
        "| Lecture Material          | Topic                | \n",
        "|:------------------                | :------------------ | \n",
        "| Lecture 1     | [Introduction to NLP and Deep Learning ](https://colab.research.google.com/drive/1aYx36QCuNGl11g9r2sIRqIZa1Lp9KrwM?usp=sharing) |   \n",
        "| Lectrue 2     |  [Cleaning Text Data ](https://colab.research.google.com/drive/1zB8-3HelwNngZ1PuKi6756L3u5hpZTOy?usp=sharing) |    \n",
        "\n",
        "| Lab Material               | Topic                | \n",
        "|:------------------               | :------------------ | \n",
        "| Tutorial 1  |  [Introduction to Colab for machine learning](https://colab.research.google.com/drive/1pKqHYLsxV91MmGaNFgRPuZb7U34hllUO?usp=sharing)|   \n",
        "| Tutorial 2   | [How to Clean Text for Machine Learning with Python](https://colab.research.google.com/drive/1073Shhvrp43KpCCDk5iUJjxxBwP3S3Pr?usp=sharing)| \n",
        "|Lab Sheet |To do|\n",
        "\n"
      ]
    },
    {
      "cell_type": "markdown",
      "metadata": {
        "id": "jGc8Y6QIYEAY"
      },
      "source": [
        "# Day 2 Tuesday: Bag-Of-Words"
      ]
    },
    {
      "cell_type": "markdown",
      "metadata": {
        "id": "hG44CHlzfkbm"
      },
      "source": [
        "**Lecture Material**\n",
        "\n",
        "Colab page: [Bag of Words](https://colab.research.google.com/drive/1XFRKBLCLSVuXmBeE3OGg4hzr7TxbmKvD?usp=sharing)\n",
        "\n",
        "**Lab Material**\n",
        "\n",
        "Colab page: [How to Develop a Deep Learning Bag-of-Words Model for Sentiment Analysis (Text Classification)](https://colab.research.google.com/drive/1dTFUKVnqCJVvQckf0kbfaFNb8kK7bX5y?usp=sharing) \n",
        "\n"
      ]
    },
    {
      "cell_type": "markdown",
      "metadata": {
        "id": "LBBwVOxhYTGR"
      },
      "source": [
        "# Day 3 Thursday: LSI for Information Retrieval & Evaluation Measures"
      ]
    },
    {
      "cell_type": "markdown",
      "metadata": {
        "id": "CYCEAljEnoii"
      },
      "source": [
        "**Lecture Material**\n",
        "\n",
        "Colab page: [Latent Semantic Analysis](https://colab.research.google.com/drive/1BXr4DuL-uKdQeTHUI_jVfhyuAykrair8?usp=sharing)\n",
        "\n",
        "Colab page: [Evaluation Measures](https://colab.research.google.com/drive/1XZc5cx3GKTUYJhLZjWgWyobkrGFd6nfA?usp=sharing)\n",
        "\n",
        "\n",
        "**Lab Material - Yan to DO**\n",
        "\n",
        "Colab page: How to Develop a Deep Learning Bag-of-Words Model for Sentiment Analysis (Text Classification) \n",
        "\n",
        "Yan this will be the same tutorial as the lab in day 2 but applied to one of our last year's Datasets."
      ]
    },
    {
      "cell_type": "markdown",
      "metadata": {
        "id": "xQo3cHw6YVEY"
      },
      "source": [
        "# Data 4 Friday: NLP with Deep Learning and Word Embeddings"
      ]
    },
    {
      "cell_type": "markdown",
      "metadata": {
        "id": "YK7GzBcuimzC"
      },
      "source": [
        "**Lecture Material**\n",
        "\n",
        "[Best Practices for Text Classification with Deep Learning](https://machinelearningmastery.com/best-practices-document-classification-deep-learning/)\n",
        "\n",
        "Colab page: [Word Embedding Representation](https://colab.research.google.com/drive/1ylqlTKgTX_AVUgkrPYvuTJmP8V33gKse?usp=sharing)\n",
        "\n",
        "Colab page: [Learned Embedding](https://colab.research.google.com/drive/1YBTq8whaCg4EGRZkRHlRDQt7b3nNDZSP?usp=sharing)\n",
        "\n",
        "Colab page: [Classifying Text](https://colab.research.google.com/drive/1pM9sXj_S4vm59_jpdGK2q6nyB0P8U9gv?usp=sharing)   [TO DO - incomplete code ]\n",
        "\n",
        "**Lab Material**\n",
        "\n",
        "[Deep Convolutional Neural Network for Sentiment Analysis (Text Classification)](https://colab.research.google.com/drive/1B3MGqu9eU0OqTjUS__qsWk1SM5gesDle?usp=sharing)\n",
        "\n"
      ]
    },
    {
      "cell_type": "markdown",
      "metadata": {
        "id": "lGIHDEcb2jQY"
      },
      "source": [
        "# Day 5 Monday: Sentiment Analysis with BERT"
      ]
    },
    {
      "cell_type": "markdown",
      "metadata": {
        "id": "XM9lYkWI2EHA"
      },
      "source": [
        "**Lecture Material on Sentiment Analysis with BERT**\n",
        "\n",
        "[A Visual Notebook to Using BERT for the First TIme.ipynb](https://colab.research.google.com/drive/1pjesm9W6nYnND_b8veHsl-Gu_RAxvAX7?usp=sharing)\n",
        "\n",
        "\n",
        "**Lab Material**\n",
        "\n",
        "Repeat above using a lab dataset - Yan \n",
        "\n"
      ]
    },
    {
      "cell_type": "markdown",
      "metadata": {
        "id": "Mwur-vCUYnzx"
      },
      "source": [
        "# Day 6 Tuesday: Text Summarisation (to do)\n"
      ]
    },
    {
      "cell_type": "markdown",
      "metadata": {
        "id": "cQuLX5vD2wvd"
      },
      "source": [
        "[A gentle introduction to Text summarisation](https://machinelearningmastery.com/gentle-introduction-text-summarization/)\n",
        "\n",
        "Text Summarisation and Evaluation (https://github.com/Yale-LILY/SummerTime) - TO DO\n",
        "\n",
        "[GPT-2 playground](https://colab.research.google.com/drive/1afLQ3GiMib9bq7_g9pEdoWv3OaCEsOr2?usp=sharing)\n",
        "\n",
        "- Text completion\n",
        "- Question Answering \n",
        "- Summarisation\n"
      ]
    },
    {
      "cell_type": "markdown",
      "metadata": {
        "id": "RDtOrM1oY29o"
      },
      "source": [
        "# Day 7 Thursday: Getting Started on the Coursework\n",
        "\n",
        "Coursework \n",
        "\n",
        "Bag of words\n",
        "Text classification\n",
        "Summarisation\n",
        "\n",
        "CLassification & Evaluation\n",
        "Compare bag of words with and without machine learning (model of your choice, see marking criteria)\n",
        "\n",
        "Summarise the reviews of each class using 2 different summarisation approaches and compare the results. \n"
      ]
    }
  ]
}
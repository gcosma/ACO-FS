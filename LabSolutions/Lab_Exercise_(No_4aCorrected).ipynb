{
  "cells": [
    {
      "cell_type": "markdown",
      "metadata": {
        "id": "view-in-github",
        "colab_type": "text"
      },
      "source": [
        "<a href=\"https://colab.research.google.com/github/gcosma/ACO-FS/blob/master/LabSolutions/Lab_Exercise_(No_4aCorrected).ipynb\" target=\"_parent\"><img src=\"https://colab.research.google.com/assets/colab-badge.svg\" alt=\"Open In Colab\"/></a>"
      ]
    },
    {
      "cell_type": "markdown",
      "metadata": {
        "id": "xFZyJ3CTsFZ5"
      },
      "source": [
        "\n",
        "# **Lab Exercise (No. 4a)**\n",
        "\n",
        "**Task Overview**\n",
        "\n",
        "1. Your task is to use the cleaned ArtReviews dataset and the ArtRatings(classes) and repeat the Lab sheet to apply LSA.\n",
        "\n",
        "2. Write code to retrieve the top 10 results for the 2 given queries.\n",
        "['I really enjoy these scissors!',\n",
        "'I hate the pen!'"
      ]
    },
    {
      "cell_type": "markdown",
      "metadata": {
        "id": "kHRD-Ndy2Gss"
      },
      "source": [
        "###***pre-work1: mount drive***"
      ]
    },
    {
      "cell_type": "code",
      "execution_count": null,
      "metadata": {
        "id": "JYs5fOJFpivJ",
        "colab": {
          "base_uri": "https://localhost:8080/"
        },
        "outputId": "86350e24-0c3d-45d0-c64e-765576719bf3"
      },
      "outputs": [
        {
          "output_type": "stream",
          "name": "stdout",
          "text": [
            "Drive already mounted at /content/drive; to attempt to forcibly remount, call drive.mount(\"/content/drive\", force_remount=True).\n"
          ]
        }
      ],
      "source": [
        "from google.colab import drive\n",
        "drive.mount(\"/content/drive\")"
      ]
    },
    {
      "cell_type": "markdown",
      "metadata": {
        "id": "k2vWpStmklmF"
      },
      "source": [
        "###***pre-work2: set datasets***"
      ]
    },
    {
      "cell_type": "code",
      "execution_count": null,
      "metadata": {
        "id": "ZN1UEcu9kinI",
        "colab": {
          "base_uri": "https://localhost:8080/"
        },
        "outputId": "a96b98b0-9f7d-4597-ecc9-1e21c5342e85"
      },
      "outputs": [
        {
          "output_type": "stream",
          "name": "stdout",
          "text": [
            "ArtsRatings_5000_test.txt   ArtsReviews_5000_train.txt\tReduced_ArtsRatings_5000.txt\n",
            "ArtsRatings_5000_train.txt  glove.6B.100d.txt\t\tReduced_ArtsReviews_5000.txt\n",
            "ArtsReviews_5000_test.txt   metamorphosis_clean.txt\treview_polarity\n"
          ]
        }
      ],
      "source": [
        "data_path = \"/content/drive/My Drive/Colab Notebooks/COP509/LabDatasets/\"\n",
        "!ls \"/content/drive/My Drive/Colab Notebooks/COP509/LabDatasets/\"\n",
        "\n",
        "datasets = 'Arts5000' # ArtsAll, Arts5000\n",
        "\n",
        "\n",
        "if datasets == 'ArtsAll':\n",
        "  # Arts all\n",
        "  data_all_reviews = 'ArtsReviews.txt'\n",
        "  data_all_ratings = 'ArtsRatings.txt'\n",
        "  data_train_reviews = 'ArtsReviews_train.txt'\n",
        "  data_test_reviews = 'ArtsReviews_test.txt'\n",
        "  data_train_ratings = 'ArtsRatings_train.txt'\n",
        "  data_test_ratings = 'ArtsRatings_test.txt'\n",
        "else:\n",
        "  # Arts 5000\n",
        "  data_all_reviews = 'Reduced_ArtsReviews_5000.txt'\n",
        "  data_all_ratings = 'Reduced_ArtsRatings_5000.txt'\n",
        "  data_train_reviews = 'ArtsReviews_5000_train.txt'\n",
        "  data_test_reviews = 'ArtsReviews_5000_test.txt'\n",
        "  data_train_ratings = 'ArtsRatings_5000_train.txt'\n",
        "  data_test_ratings = 'ArtsRatings_5000_test.txt'"
      ]
    },
    {
      "cell_type": "markdown",
      "metadata": {
        "id": "VHfaf9ly2A_H"
      },
      "source": [
        "##**1.fit the LSA model**"
      ]
    },
    {
      "cell_type": "code",
      "execution_count": null,
      "metadata": {
        "colab": {
          "base_uri": "https://localhost:8080/"
        },
        "id": "ivEseKDbryVZ",
        "outputId": "3e88b932-f2fd-4c20-db88-330245b14321"
      },
      "outputs": [
        {
          "output_type": "stream",
          "name": "stderr",
          "text": [
            "[nltk_data] Downloading package stopwords to /root/nltk_data...\n",
            "[nltk_data]   Package stopwords is already up-to-date!\n"
          ]
        },
        {
          "output_type": "stream",
          "name": "stdout",
          "text": [
            "Approximated Xtrain shape: (5000, 50)\n"
          ]
        }
      ],
      "source": [
        "\n",
        "from string import punctuation\n",
        "from os import listdir\n",
        "from collections import Counter\n",
        "from nltk.corpus import stopwords\n",
        "\n",
        "import nltk\n",
        "from sklearn.decomposition import TruncatedSVD\n",
        "from sklearn.metrics.pairwise import cosine_similarity\n",
        "from numpy import argsort\n",
        "from sklearn.feature_extraction.text import CountVectorizer, TfidfTransformer\n",
        "\n",
        "nltk.download('stopwords')\n",
        "\n",
        "# load doc into memory\n",
        "def load_doc_lines(filename):\n",
        "\tfile = open(filename,'rt')\n",
        "\tlines = list()\n",
        "  # read all text as lines\n",
        "\twhile 1:\n",
        "\n",
        "\t\tline = file.readline()\n",
        "\t\tif not line:\n",
        "\t\t\tbreak\n",
        "\t\tpass\n",
        "\t\tlines.append(line.strip(\"\\n\"))\n",
        "  # close the file\n",
        "\tfile.close()\n",
        "\treturn lines\n",
        "\n",
        "# turn a doc into clean tokens\n",
        "def clean_doc(doc):\n",
        "\t# split into tokens by white space\n",
        "\ttokens = doc.split()\n",
        "\n",
        "\t# convert to lower case\n",
        "\ttokens = [word.lower() for word in tokens]\n",
        "\n",
        " \t# stemming of words\n",
        "\tfrom nltk.stem.porter import PorterStemmer\n",
        "\tporter = PorterStemmer()\n",
        "\n",
        "\t# remove punctuation from each token\n",
        "\ttable = str.maketrans('', '', punctuation)\n",
        "\ttokens = [w.translate(table) for w in tokens]\n",
        "\t# remove remaining tokens that are not alphabetic\n",
        "\ttokens = [word for word in tokens if word.isalpha()]\n",
        "\t# filter out stop words\n",
        "\tstop_words = set(stopwords.words('english'))\n",
        "\ttokens = [w for w in tokens if not w in stop_words]\n",
        "\t# filter out short tokens\n",
        "\ttokens = [word for word in tokens if len(word) > 1]\n",
        "\ttokens = [porter.stem(word) for word in tokens]\n",
        "\treturn tokens\n",
        "\n",
        "# load doc, clean and return line of tokens\n",
        "def doc_to_line(doc):\n",
        "\t# load the doc\n",
        "\t# doc = load_doc(filename)\n",
        "\t# clean doc\n",
        "\ttokens = clean_doc(doc)\n",
        "\t# filter by vocab\n",
        "\t# tokens = [w for w in tokens if w in vocab]\n",
        "\treturn ' '.join(tokens)\n",
        "\n",
        "# load all docs in a directory\n",
        "def process_docs(files):\n",
        "\tlines = list()\n",
        "\t# walk through all files in the folder\n",
        "\tfor doc in files:\n",
        "\t\t# print(len(doc))\n",
        "\t\tline = doc_to_line(doc)\n",
        "\t\t# add to list\n",
        "\t\tlines.append(line)\n",
        "\treturn lines\n",
        "\n",
        "# prepare words encoding of docs\n",
        "def prepare_data(train_docs, mode, vocab):\n",
        "\t# encode training data set\n",
        "\tvectorizer = CountVectorizer(vocabulary=vocab)\n",
        "\ttransformer = TfidfTransformer(norm='l2')\n",
        "\tXtrain = transformer.fit_transform(vectorizer.fit_transform(train_docs))\n",
        "\treturn Xtrain\n",
        "\n",
        "# load the dataset #########################################\n",
        "ArRe_train_lines = load_doc_lines(data_path + data_all_reviews)\n",
        "\n",
        "train_docs = process_docs(ArRe_train_lines)\n",
        "\n",
        "# generate vocabulary\n",
        "vocab = []\n",
        "for ll in train_docs:\n",
        "  tt = ll.split()\n",
        "  for ww in tt:\n",
        "    if ww not in vocab:\n",
        "      vocab.append(ww)\n",
        "# print(vocab)\n",
        "# print(len(vocab))\n",
        "\n",
        "Xtrain = prepare_data(train_docs, 'tfidf', vocab)\n",
        "\n",
        "trunc_SVD_model = TruncatedSVD(n_components=50)\n",
        "approx_Xtrain = trunc_SVD_model.fit_transform(Xtrain)\n",
        "print(\"Approximated Xtrain shape: \" + str(approx_Xtrain.shape))\n"
      ]
    },
    {
      "cell_type": "markdown",
      "metadata": {
        "id": "_8Am4FUx19vd"
      },
      "source": [
        "##**2.retrieval**"
      ]
    },
    {
      "cell_type": "code",
      "execution_count": null,
      "metadata": {
        "id": "JGJweykI0xI4",
        "colab": {
          "base_uri": "https://localhost:8080/"
        },
        "outputId": "a609b9c8-e2ea-40e3-a6c5-8bd96a3af0d9"
      },
      "outputs": [
        {
          "output_type": "stream",
          "name": "stdout",
          "text": [
            "\n",
            "Query: I really enjoy these scissors!\n",
            "Top 1 result:\n",
            "Reviews ID: 3481\n",
            "I'm delighted with these scissors. They are true left-handed scissors, with the upper blade on the left. They're well made, and a pleasure to use. I can't give them five stars, however, for two reasons. First, the sheath that comes with them is made for right-handed scissors and won't fit on these. Second, although these are true left-handed scissors, Mundial offers only a couple of its models in true left-handed versions. Worse, it also offers fake &#34;left-or-right&#34; scissors that are really right-handed scissors with modified handles. Left-handed people are 10-15% of the population, and we do every job that right-handed people do. We need every kind of scissors that right-handed people need, and we need them to be real left-handed scissors like these. When Mundial starts offering more than just a couple of popular models in true left-handed versions, and supplies them with sheathes that actually fit them, I'll come back and add stars, because these scissors really are excellent.\n",
            "Top 2 result:\n",
            "Reviews ID: 3796\n",
            "I'm not sure what they mean by right/left handed, but these clearly are not for left handed folks. We have a pair of left-handed scissors and the grooves on these titanium scissors are on the opposite side - for right handers. There is a slight groove for the left-handed side, but that's really just fishing for it, in my opinion.Personally, I'm giving these to my family, who are right-handers, because they do cut well. Unfortunately I just don't see how this could be how it's advertised.\n",
            "Top 3 result:\n",
            "Reviews ID: 370\n",
            "I don't know if they need to lube up the area around the screw or what, but after the scissors shut to a certain point, they were difficult for my daughter to open. I bought another brand of safety scissors at the grocery store and they were much better. These were really cheap though, so I guess I got what I paid for.\n",
            "Top 4 result:\n",
            "Reviews ID: 3773\n",
            "The scissor is alright, but nothing to rave about. Its a scissor for gods sake. Its just not that high-tech.\n",
            "Top 5 result:\n",
            "Reviews ID: 1968\n",
            "These are great scissors for left-handed people. My son is 15 and really needed these to help with his art. However, I am very upset that I just purchased them last week for $31 and now they are $18. I would like a refund for the difference! Anyway, see video of cutting with these scissors at: [...]\n",
            "Top 6 result:\n",
            "Reviews ID: 1186\n",
            "I have multiple pairs of these scissors in my house. I like them, they last for years unlike the cheaper scissors. My right-handed child has no problem. They keep their edge, he can cut paper and foam with them.These are useless for the left-handed child. I thought my daughter could sue these, they say they are ambidextrous on the package, but as many have said, this is an impossibility with scissors. She would cut jagged lines in everything. This lead to her getting very frustrated. You can't find left-handed scissors in any local Brick-and-mortar stores it seems. Don't buy these for your left -handers. Fiskars makes a great pair of left handed scissors that is sold here on Amazon, that have all the benefits of these scissors.\n",
            "Top 7 result:\n",
            "Reviews ID: 746\n",
            "I assumed that the 5 in the product title description meant i was getting 5 scissors. Especially since the price was around 8 or 10 bucks! I believe the seller maant 5 inch scissors. Obviously im extremely annoyed to have payed that much for a single pair of scissors that ive seem sold for 2 or 3 buck around town.\n",
            "Top 8 result:\n",
            "Reviews ID: 2059\n",
            "I like these scissors just fine, although I definitely prefer the handle of the Westcott Titanium Bonded Non Stick Scissors, 8\" Straight more than the handle of this scissor. However, (at current prices) you pay $8.77 for the handle I like and only $9.88 for TWO pairs of the handle I don't like. And I can't say that I hate the handle or anything. It's just that my hands have enjoyed other handles more. These scissors will be ones I let my kids use for their art projects--another moment where a pack of two scissors comes in handy: I've got two kids, so one for each. And the scissors do their job. They cut things as they should.\n",
            "Top 9 result:\n",
            "Reviews ID: 2962\n",
            "Back in the late 70's I owned a Deli & seafood resturant in Wyoming USA, we served every thing right up to live Lobster, Watching Joyia Childs on GMA, she used the Joyce Chen Scissors to cut the lobster , I ordered 24 scissors for my restuarent because she made cutting and eating the lobster so much easier. over the years since I started to lost those 24 wonderful scissors until I was down to one that ended up in my wife's tack room, I ordered two \"bright red\" scissors just to have in my home kitchen here in Florida. These scissors are so great that the other regualar type scissors I put out in the tack room.They are great as a Gift that will be remembered for years.\n",
            "Top 10 result:\n",
            "Reviews ID: 2409\n",
            "The little 3-year old is learning to cut things out, and these scissors are just right for her. She's proud to have her 'own' scissors, tho I don't let her keep them in her toys, she has to use them when I'm with her.\n",
            "\n",
            "Query: I hate the pen!\n",
            "Top 1 result:\n",
            "Reviews ID: 3924\n",
            "This Pen is Not Good. This Was My Very First Fountain Pen And iWas Very Very Disappointed With How The Pen Has A Problem With The Ink Flow And You Are Planing To Buy This Pen I Wouldn't Recommend It To Any Body.\n",
            "Top 2 result:\n",
            "Reviews ID: 1900\n",
            "The pen itself was visibly as depicted: a Murano-style glass pen, with all the slight irregularities that should be expected of hand-shaped glass. I could not rate how the ink flowed from the pen, as the pen had been very poorly packaged and had arrived broken in two places. Most disappointing, as this pen was intended to be given as a gift.\n",
            "Top 3 result:\n",
            "Reviews ID: 2127\n",
            "A lot of people complain about Sakura's pens, and while Copics certainly have their advantages, Sakura's pens are great for the price, have very good ink and dry quickly with no smell. They also lay down easier than Copics, which is important to me because I hold pens strangely, and with Copics sometimes they won't lay down the ink. It's important however that you are very light with the touch on the pens, because the nibs can be flattened into the pen, making it useless. However, I like these pens!\n",
            "Top 4 result:\n",
            "Reviews ID: 570\n",
            "The package sucks as a pen holder except if you're traveling and do not want the pens rolling around loose anywhere.The pens are awesome but if you're heavy handed you NEED to be careful, the smallest nibswear down fast.\n",
            "Top 5 result:\n",
            "Reviews ID: 2184\n",
            "These pens are great if you need to do drawing or sketching with a very fine tip. I liked the quality of most of the pens, except I had one pen no# 2 which was almost dry (and I just got the package yesterday).These pens were not lasting ones. Many of them dried up pretty fast, and after 3 months all are dried. Otherwise, I think these are very good pens.\n",
            "Top 6 result:\n",
            "Reviews ID: 3386\n",
            "I love the feel of drawing with these pens, they lay down smooth and true on paper. Beautiful lines.I do wish they dried a bit faster, but that's how it goes with pens I guess?I wasn't aware of the frail tip of the 20mm but I blame my ignorance of how to handle drawing pens on that one. Will be more careful next time!\n",
            "Top 7 result:\n",
            "Reviews ID: 1345\n",
            "I'll start by saying I don't use this pen for drafting. I love to write with this pen because the lines get really dark, are extremely consistent, and the feel of writing with it is very satisfying, like a sharp pencil or a fountain pen.These pens do require you to keep it at a roughly 80-90 degree angle to maintain ink flow, but I don't mind that.I also don't like to use the Koh-I-Noor Technical Pen Ink. It clogs the pen quickly and regularly. Black India Fountain Pen Ink almost never clogs it, and is still very dark and doesn't soak through paper.With minor maintenance and the right ink, this pen will last you forever.\n",
            "Top 8 result:\n",
            "Reviews ID: 4163\n",
            "Five stars for the quality of the ink - it's smooth-flowing, very black, doesn't bleed on the paper, and dries quickly. All the qualities you want in your ink. ONE STAR for the duribility of the pens. I tend to have a very hard grasp on my pens, and these just aren't up to it. The points break far too easily. After only a month of use, the area where the pen and nib joins has weakened to the point where the pens bleed all over my fingers and are unusable. If you have a light touch, you might love these pens. If not, find a more durable instrument. I'm still looking.\n",
            "Top 9 result:\n",
            "Reviews ID: 223\n",
            "I did not understand that this ink is designed for pen sketching, or calligraphy! Therefore I incorrectly ordered it thinking it would be appropriate for my Waterman fountain pen. It does not FLOW through a nib, and therefore I goofed in selecting this product.\n",
            "Top 10 result:\n",
            "Reviews ID: 4789\n",
            "pens; but they run out of ink so quickly. i need to find a pen just as good but cheaper.\n"
          ]
        }
      ],
      "source": [
        "import numpy as np\n",
        "# preprocess query\n",
        "def preprocess_query(review, mode, vocab):\n",
        "\t# clean\n",
        "\ttokens = clean_doc(review)\n",
        "\t# convert to line\n",
        "\tline = ' '.join(tokens)\n",
        "\t# encode\n",
        "\tvectorizer = CountVectorizer(vocabulary=vocab)\n",
        "\ttransformer = TfidfTransformer(norm='l2')\n",
        "\tencoded = transformer.fit_transform(vectorizer.fit_transform([line]))\n",
        "\treturn encoded\n",
        "\n",
        "querys = ['I really enjoy these scissors!',\n",
        "          'I hate the pen!'\n",
        "]\n",
        "for query in querys:\n",
        "  # retrieval\n",
        "  encoded_query = preprocess_query(query, 'tfidf', vocab)\n",
        "  # print(encoded_query.shape)\n",
        "\n",
        "  transformed_query = trunc_SVD_model.transform(encoded_query)\n",
        "  # print(\"Transformed query: \" + str(transformed_query))\n",
        "  # print(\"Query shape: \" + str(transformed_query.shape))\n",
        "\n",
        "  # print(type(approx_Xtrain))\n",
        "  # print(approx_Xtrain)\n",
        "  similarities = cosine_similarity(approx_Xtrain, transformed_query)\n",
        "  # print(\"Similarities shape: \" + str(similarities.shape))\n",
        "\n",
        "  Top_n_reviews=10\n",
        "  # indexes = np.argsort(similarities.flat)[-Top_n_reviews:]\n",
        "  indexes = np.argsort(similarities.flat)[::-1]\n",
        "\n",
        "  print('\\n' + 'Query: ' + query)\n",
        "  for i in range(Top_n_reviews):\n",
        "    print(\"Top \" + str(i+1) + ' result:')\n",
        "    print(\"Reviews ID: \" + str(indexes[i]))\n",
        "    print(ArRe_train_lines[indexes[i]])\n",
        "    # print(\"similarities: \" + str(similarities.flat[indexes[i]]))\n",
        "\n"
      ]
    }
  ],
  "metadata": {
    "colab": {
      "provenance": [],
      "include_colab_link": true
    },
    "kernelspec": {
      "display_name": "Python 3",
      "name": "python3"
    }
  },
  "nbformat": 4,
  "nbformat_minor": 0
}
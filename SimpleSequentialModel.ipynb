{
  "nbformat": 4,
  "nbformat_minor": 0,
  "metadata": {
    "colab": {
      "name": "SimpleSequentialModel.ipynb",
      "version": "0.3.2",
      "provenance": [],
      "collapsed_sections": [],
      "include_colab_link": true
    },
    "kernelspec": {
      "name": "python3",
      "display_name": "Python 3"
    }
  },
  "cells": [
    {
      "cell_type": "markdown",
      "metadata": {
        "id": "view-in-github",
        "colab_type": "text"
      },
      "source": [
        "<a href=\"https://colab.research.google.com/github/gcosma/ACO-FS/blob/master/SimpleSequentialModel.ipynb\" target=\"_parent\"><img src=\"https://colab.research.google.com/assets/colab-badge.svg\" alt=\"Open In Colab\"/></a>"
      ]
    },
    {
      "cell_type": "markdown",
      "metadata": {
        "id": "Qg1TmIbqdRV6",
        "colab_type": "text"
      },
      "source": [
        "\n",
        "**Tutorial: HOW TO Create your first Sequential Model in Keras** \n",
        "\n",
        "by Dr Georgina Cosma\n",
        "\n",
        "This tutorial is based on  \n",
        "\n",
        "https://machinelearningmastery.com/tutorial-first-neural-network-python-keras/"
      ]
    },
    {
      "cell_type": "markdown",
      "metadata": {
        "id": "2WAVoe6SpMZU",
        "colab_type": "text"
      },
      "source": [
        "Learning outcomes:\n",
        "* Load Data.\n",
        "* Define a Sequential model.\n",
        "* Compile Model.\n",
        "* Evaluate Model.\n",
        "\n",
        "\n",
        "**Not using Colab?** If you are not using Colab you will need to Setup a Python Environment for \n",
        "Machine Learning and Deep Learning with Anaconda. You must have Python 2 or 3 \n",
        "installed and configured. You must install SciPy (including NumPy) and the relevant\n",
        "libraries including Keras. \n",
        "\n",
        "**Using Colab:** Some difficulties may be\n",
        "experienced with mounting, but the code and explanation here will help you overcome these. \n",
        "\n"
      ]
    },
    {
      "cell_type": "markdown",
      "metadata": {
        "id": "52Rq10MgkEOM",
        "colab_type": "text"
      },
      "source": [
        "**Step 1: Import libraries** "
      ]
    },
    {
      "cell_type": "code",
      "metadata": {
        "id": "NJYbRn_jdSBk",
        "colab_type": "code",
        "colab": {}
      },
      "source": [
        "from keras.models import Sequential\n",
        "from keras.layers import Dense\n",
        "import numpy\n",
        "from sklearn.metrics import confusion_matrix"
      ],
      "execution_count": 0,
      "outputs": []
    },
    {
      "cell_type": "markdown",
      "metadata": {
        "id": "I34xdjC4kTVk",
        "colab_type": "text"
      },
      "source": [
        "**Step 2: Mount to Google Drive in order to access your data file**"
      ]
    },
    {
      "cell_type": "code",
      "metadata": {
        "id": "vqvH4wcpkbRj",
        "colab_type": "code",
        "outputId": "a8655a96-030d-42e2-e672-0135f3f8899c",
        "colab": {
          "base_uri": "https://localhost:8080/",
          "height": 34
        }
      },
      "source": [
        "from google.colab import drive\n",
        "drive.mount('/content/drive')\n",
        "#!ls \"/content/drive/My Drive/Colab Notebooks\"\n",
        "\n",
        "#if you need to remount\n",
        "#drive.mount(\"/content/drive\", force_remount=True)\n",
        "\n",
        "#If you want to unmount and reset then: \n",
        "#Step 1: From the menu select Runtime--->Reset all Runtimes... \n",
        "#Step 2: Runtime--->Run all or you can run each Cell at a time. There will be a message \n",
        "# \"Go to a URL in a browser\" and you must click on that and copy and paste the authorisation code \n",
        "# from the page into the authorisation code text box.\n"
      ],
      "execution_count": 0,
      "outputs": [
        {
          "output_type": "stream",
          "text": [
            "Drive already mounted at /content/drive; to attempt to forcibly remount, call drive.mount(\"/content/drive\", force_remount=True).\n"
          ],
          "name": "stdout"
        }
      ]
    },
    {
      "cell_type": "markdown",
      "metadata": {
        "id": "JuRvKRH9kn5s",
        "colab_type": "text"
      },
      "source": [
        "**Step 3: Whenever we work with machine learning algorithms that use a stochastic process (e.g. random numbers), it is a good idea to set the random number seed.\n",
        "Setting the random seed, results in getting the same outputs whenever you run the code. \n",
        "Setting the random seed is useful if you need to demonstrate a result, compare algorithms using the same source of randomness or to debug a part of your code. **\n"
      ]
    },
    {
      "cell_type": "code",
      "metadata": {
        "id": "rDEjzHwNavrO",
        "colab_type": "code",
        "colab": {}
      },
      "source": [
        "# fix random seed for reproducibility\n",
        "numpy.random.seed(7)"
      ],
      "execution_count": 0,
      "outputs": []
    },
    {
      "cell_type": "code",
      "metadata": {
        "id": "stFb9r6kkNLX",
        "colab_type": "code",
        "outputId": "7661fb54-802e-4bfb-84d1-a3d0558eab41",
        "colab": {
          "base_uri": "https://localhost:8080/",
          "height": 136
        }
      },
      "source": [
        "# load the dataset\n",
        "dataset = numpy.loadtxt(\"/content/drive/My Drive/Colab Notebooks/pima.txt\", delimiter=\",\")\n",
        "print(dataset)"
      ],
      "execution_count": 0,
      "outputs": [
        {
          "output_type": "stream",
          "text": [
            "[[  6.    148.     72.    ...   0.627  50.      1.   ]\n",
            " [  1.     85.     66.    ...   0.351  31.      0.   ]\n",
            " [  8.    183.     64.    ...   0.672  32.      1.   ]\n",
            " ...\n",
            " [  5.    121.     72.    ...   0.245  30.      0.   ]\n",
            " [  1.    126.     60.    ...   0.349  47.      1.   ]\n",
            " [  1.     93.     70.    ...   0.315  23.      0.   ]]\n"
          ],
          "name": "stdout"
        }
      ]
    },
    {
      "cell_type": "markdown",
      "metadata": {
        "id": "g3utKVAwj4Iu",
        "colab_type": "text"
      },
      "source": [
        "**Step 4: Split input (X) and output (Y) variables into separate matrices.**\n",
        "\n",
        "* **Dataset contains:** \n",
        "* **Number of input variables: 8.          Columns 0 to 7**   \n",
        "* **Number of output variables: 1.        Column 8**\n",
        "\n",
        "* **Let X be the m x n feature by case matrix. In this example a case is a person's data, a.k.a. record.**\n",
        "* **Let Y be a 1 x n vector holding all the labels. One row in Y corresponds to a row in X. So every person's record is assigned a label.**\n",
        "\n",
        "**Dataset has 9 columns. Range 0:8 will select columns from 0 to 7, stopping before index 8.**"
      ]
    },
    {
      "cell_type": "code",
      "metadata": {
        "id": "RBmDJLsWk64e",
        "colab_type": "code",
        "outputId": "a9d866e9-2d06-418c-f57a-d4af460b69f4",
        "colab": {
          "base_uri": "https://localhost:8080/",
          "height": 34
        }
      },
      "source": [
        "#Split into X and Y variables\n",
        "#Input data and labels need to be separated before training the model\n",
        "X = dataset[0:760,0:8]      #select rows 0 to 759 and columns 0 to 7. Columns 0 to 7 hold the input data.\n",
        "Y = dataset[0:760,8]        #select rows 0 to 759 and column 8. Column 8 is the last column holding all the labels.\n",
        "\n",
        "#The last 8 records for testing the model  (record 760 to 767)\n",
        "X1 = dataset[760:768,0:8]   #select rows 760 to 767 and columns 0 to 7. Columns 0 to 7 hold the input data.\n",
        "Y1 = dataset[760:768,8]     #select rows 760 to 767 and column 8. Column 8 is the last column holding all the labels.\n",
        "\n",
        "#check the size of matrix X\n",
        "#dataset.shape\n",
        "X.shape\n",
        "X1.shape\n",
        "\n",
        "#print a record of dataset X and X1. \n",
        "#print(X[759]) #print record 759\n",
        "#print(X1[0]) #print record 0"
      ],
      "execution_count": 0,
      "outputs": [
        {
          "output_type": "execute_result",
          "data": {
            "text/plain": [
              "(8, 8)"
            ]
          },
          "metadata": {
            "tags": []
          },
          "execution_count": 41
        }
      ]
    },
    {
      "cell_type": "markdown",
      "metadata": {
        "id": "GSvPiJjpoah9",
        "colab_type": "text"
      },
      "source": [
        "**Step 5: Create the Sequential model**\n",
        "A Sequential model is a linear stack of layers.\n"
      ]
    },
    {
      "cell_type": "code",
      "metadata": {
        "id": "25NjmEwUk9Tt",
        "colab_type": "code",
        "colab": {}
      },
      "source": [
        "#Specify the model \n",
        "#First layer in the Sequential model\n",
        "model = Sequential()\n",
        "#Dense(n) is a fully-connected layer with x hidden units.  \n",
        "#In the first layer, you must specify the expected input data shape: input_dim=8 dimensional vectors.\n",
        "\n",
        "# Line model.add(Dense(12, input_dim=8, activation='relu', name='input_layer')), does the following:\n",
        "#defines the input layer as having 8 inputs.\n",
        "#defines a hidden layer with 12 neurons, connected to the input layer that use relu activation function.\n",
        "#initializes all weights using a sample of uniform random numbers.\n",
        "\n",
        "model.add(Dense(12, input_dim=8, activation='relu', name='input_layer'))\n",
        "# now the model will take as input arrays of shape (*, 8)\n",
        "# and output arrays of shape (*, 12)\n",
        "\n",
        "# after the first layer, you don't need to specify\n",
        "# the size of the input anymore.\n",
        "\n",
        "model.add(Dense(8, activation='relu'))\n",
        "model.add(Dense(1, activation='sigmoid'))"
      ],
      "execution_count": 0,
      "outputs": []
    },
    {
      "cell_type": "markdown",
      "metadata": {
        "id": "s5Rrmq-G61sO",
        "colab_type": "text"
      },
      "source": [
        "\n",
        "**Step 6: Compile defines the loss function, the optimizer and the metrics.**"
      ]
    },
    {
      "cell_type": "code",
      "metadata": {
        "id": "1KmlQzemk_uM",
        "colab_type": "code",
        "colab": {}
      },
      "source": [
        "model.compile(loss='binary_crossentropy', optimizer='adam', metrics=['accuracy'])\n"
      ],
      "execution_count": 0,
      "outputs": []
    },
    {
      "cell_type": "markdown",
      "metadata": {
        "id": "7gfkomZVorVl",
        "colab_type": "text"
      },
      "source": [
        "**Step 7: Fit the model. fit(X,Y) is for training the model with the given inputs X (and corresponding training labels Y). Adjust the number of epochs to  avoid overtraining your network.**"
      ]
    },
    {
      "cell_type": "code",
      "metadata": {
        "id": "P-2INuUKlBjU",
        "colab_type": "code",
        "outputId": "656c4b0d-35da-4bc7-ce79-3a84a8b65929",
        "colab": {
          "base_uri": "https://localhost:8080/",
          "height": 1734
        }
      },
      "source": [
        "model.fit(X, Y, epochs=50, batch_size=10)\n"
      ],
      "execution_count": 0,
      "outputs": [
        {
          "output_type": "stream",
          "text": [
            "Epoch 1/50\n",
            "760/760 [==============================] - 0s 495us/step - loss: 4.1804 - acc: 0.6237\n",
            "Epoch 2/50\n",
            "760/760 [==============================] - 0s 133us/step - loss: 1.0228 - acc: 0.5789\n",
            "Epoch 3/50\n",
            "760/760 [==============================] - 0s 130us/step - loss: 0.7521 - acc: 0.6566\n",
            "Epoch 4/50\n",
            "760/760 [==============================] - 0s 133us/step - loss: 0.7089 - acc: 0.6671\n",
            "Epoch 5/50\n",
            "760/760 [==============================] - 0s 136us/step - loss: 0.6746 - acc: 0.6724\n",
            "Epoch 6/50\n",
            "760/760 [==============================] - 0s 125us/step - loss: 0.6460 - acc: 0.6789\n",
            "Epoch 7/50\n",
            "760/760 [==============================] - 0s 133us/step - loss: 0.6564 - acc: 0.6724\n",
            "Epoch 8/50\n",
            "760/760 [==============================] - 0s 151us/step - loss: 0.6334 - acc: 0.6882\n",
            "Epoch 9/50\n",
            "760/760 [==============================] - 0s 135us/step - loss: 0.6263 - acc: 0.6974\n",
            "Epoch 10/50\n",
            "760/760 [==============================] - 0s 142us/step - loss: 0.6190 - acc: 0.6921\n",
            "Epoch 11/50\n",
            "760/760 [==============================] - 0s 131us/step - loss: 0.6209 - acc: 0.6803\n",
            "Epoch 12/50\n",
            "760/760 [==============================] - 0s 134us/step - loss: 0.6210 - acc: 0.6855\n",
            "Epoch 13/50\n",
            "760/760 [==============================] - 0s 138us/step - loss: 0.6381 - acc: 0.6711\n",
            "Epoch 14/50\n",
            "760/760 [==============================] - 0s 130us/step - loss: 0.6209 - acc: 0.6842\n",
            "Epoch 15/50\n",
            "760/760 [==============================] - 0s 117us/step - loss: 0.6296 - acc: 0.6855\n",
            "Epoch 16/50\n",
            "760/760 [==============================] - 0s 121us/step - loss: 0.6085 - acc: 0.6829\n",
            "Epoch 17/50\n",
            "760/760 [==============================] - 0s 116us/step - loss: 0.5991 - acc: 0.6947\n",
            "Epoch 18/50\n",
            "760/760 [==============================] - 0s 123us/step - loss: 0.5961 - acc: 0.7026\n",
            "Epoch 19/50\n",
            "760/760 [==============================] - 0s 115us/step - loss: 0.5754 - acc: 0.7039\n",
            "Epoch 20/50\n",
            "760/760 [==============================] - 0s 129us/step - loss: 0.5944 - acc: 0.7066\n",
            "Epoch 21/50\n",
            "760/760 [==============================] - 0s 131us/step - loss: 0.5701 - acc: 0.7171\n",
            "Epoch 22/50\n",
            "760/760 [==============================] - 0s 137us/step - loss: 0.5854 - acc: 0.6974\n",
            "Epoch 23/50\n",
            "760/760 [==============================] - 0s 129us/step - loss: 0.5726 - acc: 0.6961\n",
            "Epoch 24/50\n",
            "760/760 [==============================] - 0s 147us/step - loss: 0.5667 - acc: 0.7316\n",
            "Epoch 25/50\n",
            "760/760 [==============================] - 0s 118us/step - loss: 0.5699 - acc: 0.7132\n",
            "Epoch 26/50\n",
            "760/760 [==============================] - 0s 127us/step - loss: 0.5647 - acc: 0.7211\n",
            "Epoch 27/50\n",
            "760/760 [==============================] - 0s 124us/step - loss: 0.5567 - acc: 0.7237\n",
            "Epoch 28/50\n",
            "760/760 [==============================] - 0s 117us/step - loss: 0.5659 - acc: 0.7105\n",
            "Epoch 29/50\n",
            "760/760 [==============================] - 0s 116us/step - loss: 0.5556 - acc: 0.7145\n",
            "Epoch 30/50\n",
            "760/760 [==============================] - 0s 118us/step - loss: 0.5587 - acc: 0.7250\n",
            "Epoch 31/50\n",
            "760/760 [==============================] - 0s 122us/step - loss: 0.5776 - acc: 0.7013\n",
            "Epoch 32/50\n",
            "760/760 [==============================] - 0s 121us/step - loss: 0.5516 - acc: 0.7303\n",
            "Epoch 33/50\n",
            "760/760 [==============================] - 0s 118us/step - loss: 0.5477 - acc: 0.7263\n",
            "Epoch 34/50\n",
            "760/760 [==============================] - 0s 119us/step - loss: 0.5483 - acc: 0.7329\n",
            "Epoch 35/50\n",
            "760/760 [==============================] - 0s 120us/step - loss: 0.5385 - acc: 0.7342\n",
            "Epoch 36/50\n",
            "760/760 [==============================] - 0s 123us/step - loss: 0.5470 - acc: 0.7276\n",
            "Epoch 37/50\n",
            "760/760 [==============================] - 0s 118us/step - loss: 0.5383 - acc: 0.7224\n",
            "Epoch 38/50\n",
            "760/760 [==============================] - 0s 115us/step - loss: 0.5462 - acc: 0.7368\n",
            "Epoch 39/50\n",
            "760/760 [==============================] - 0s 120us/step - loss: 0.5461 - acc: 0.7355\n",
            "Epoch 40/50\n",
            "760/760 [==============================] - 0s 119us/step - loss: 0.5444 - acc: 0.7250\n",
            "Epoch 41/50\n",
            "760/760 [==============================] - 0s 115us/step - loss: 0.5362 - acc: 0.7250\n",
            "Epoch 42/50\n",
            "760/760 [==============================] - 0s 119us/step - loss: 0.5283 - acc: 0.7421\n",
            "Epoch 43/50\n",
            "760/760 [==============================] - 0s 117us/step - loss: 0.5330 - acc: 0.7329\n",
            "Epoch 44/50\n",
            "760/760 [==============================] - 0s 116us/step - loss: 0.5502 - acc: 0.7158\n",
            "Epoch 45/50\n",
            "760/760 [==============================] - 0s 120us/step - loss: 0.5307 - acc: 0.7368\n",
            "Epoch 46/50\n",
            "760/760 [==============================] - 0s 115us/step - loss: 0.5552 - acc: 0.7171\n",
            "Epoch 47/50\n",
            "760/760 [==============================] - 0s 116us/step - loss: 0.5277 - acc: 0.7421\n",
            "Epoch 48/50\n",
            "760/760 [==============================] - 0s 118us/step - loss: 0.5325 - acc: 0.7395\n",
            "Epoch 49/50\n",
            "760/760 [==============================] - 0s 120us/step - loss: 0.5682 - acc: 0.7184\n",
            "Epoch 50/50\n",
            "760/760 [==============================] - 0s 121us/step - loss: 0.5282 - acc: 0.7526\n"
          ],
          "name": "stdout"
        },
        {
          "output_type": "execute_result",
          "data": {
            "text/plain": [
              "<keras.callbacks.History at 0x7f56e34c26a0>"
            ]
          },
          "metadata": {
            "tags": []
          },
          "execution_count": 44
        }
      ]
    },
    {
      "cell_type": "markdown",
      "metadata": {
        "id": "YbQcdVchozAV",
        "colab_type": "text"
      },
      "source": [
        "**Step 8: Evaluate the model. evaluate(X,Y) is for evaluating the already trained model using the training data X and the corresponding labels Y. Returns the loss value and metrics values for the model. We have trained our neural network on the entire dataset and we can evaluate the performance of the network on the same dataset. This will only give us an idea of how well we have modeled the dataset (e.g. train accuracy), but no idea of how well the algorithm might perform on new data.**"
      ]
    },
    {
      "cell_type": "code",
      "metadata": {
        "id": "mrKN4vNjlDFU",
        "colab_type": "code",
        "outputId": "f090f993-09ed-4487-8b78-cab03eab3b9e",
        "colab": {
          "base_uri": "https://localhost:8080/",
          "height": 68
        }
      },
      "source": [
        "scores = model.evaluate(X, Y)\n",
        "print(\"\\n%s: %.2f%%\" % (model.metrics_names[1], scores[1]*100))"
      ],
      "execution_count": 0,
      "outputs": [
        {
          "output_type": "stream",
          "text": [
            "760/760 [==============================] - 0s 130us/step\n",
            "\n",
            "acc: 76.58%\n"
          ],
          "name": "stdout"
        }
      ]
    },
    {
      "cell_type": "markdown",
      "metadata": {
        "id": "B4Fq-g2qpsb2",
        "colab_type": "text"
      },
      "source": [
        "**Step 9: Predict on previously unseen data. The predict(X1) method is used for making the actual prediction using the trained model. It generates output predictions for the input samples in X1. Here we are using the predict(X1) function predict the labels of dataset X1 (test dataset).**"
      ]
    },
    {
      "cell_type": "code",
      "metadata": {
        "id": "hdoCBfuiqRkV",
        "colab_type": "code",
        "outputId": "d899e10a-45cd-4eb8-85a0-ada63e036e31",
        "colab": {
          "base_uri": "https://localhost:8080/",
          "height": 68
        }
      },
      "source": [
        "# calculate predictions\n",
        "#X1 data was not used to train or validate the model. Here we test the model using new data, X1. \n",
        "predictions = model.predict(X1)\n",
        "# round predictions\n",
        "rounded = [round(x1[0]) for x1 in predictions]\n",
        "print(rounded)\n",
        "\n",
        "#Simple confusion matrix using sklearn.metrics \n",
        "results = confusion_matrix(Y1, rounded)\n",
        "print(results)"
      ],
      "execution_count": 0,
      "outputs": [
        {
          "output_type": "stream",
          "text": [
            "[0.0, 1.0, 0.0, 1.0, 0.0, 0.0, 0.0, 0.0]\n",
            "[[5 1]\n",
            " [1 1]]\n"
          ],
          "name": "stdout"
        }
      ]
    },
    {
      "cell_type": "markdown",
      "metadata": {
        "id": "Ex7PINigW1Og",
        "colab_type": "text"
      },
      "source": [
        "**Here is the code for creating your own confusion matrix.**\n",
        "The code was taken from https://machinelearningmastery.com/implement-machine-learning-algorithm-performance-metrics-scratch-python/"
      ]
    },
    {
      "cell_type": "code",
      "metadata": {
        "id": "5WNKvD8bWz-5",
        "colab_type": "code",
        "colab": {}
      },
      "source": [
        "# Example of Calculating and Displaying a better looking Confusion Matrix\n",
        "\n",
        "#def defines a function for calculating the confusion matrix\n",
        "# calculate a confusion matrix\n",
        "def confusion_matrix(actual, predicted):\n",
        "\tunique = set(actual)\n",
        "\tmatrix = [list() for x in range(len(unique))]\n",
        "\tfor i in range(len(unique)):\n",
        "\t\tmatrix[i] = [0 for x in range(len(unique))]\n",
        "\tlookup = dict()\n",
        "\tfor i, value in enumerate(unique):\n",
        "\t\tlookup[value] = i\n",
        "\tfor i in range(len(actual)):\n",
        "\t\tx = lookup[actual[i]]\n",
        "\t\ty = lookup[predicted[i]]\n",
        "\t\tmatrix[y][x] += 1\n",
        "\treturn unique, matrix\n",
        " \n",
        "# pretty print a confusion matrix\n",
        "def print_confusion_matrix(unique, matrix):\n",
        "\tprint('(A)' + ' '.join(str(x) for x in unique))\n",
        "\tprint('(P)-------')\n",
        "\tfor i, x in enumerate(unique):\n",
        "\t\tprint(\"%s| %s\" % (x, ' '.join(str(x) for x in matrix[i])))\n",
        " "
      ],
      "execution_count": 0,
      "outputs": []
    },
    {
      "cell_type": "markdown",
      "metadata": {
        "id": "wF97weplXI6w",
        "colab_type": "text"
      },
      "source": [
        " **Step 10: Use the confusion_matrix function to print confusion matrices for the  Predict step (Step 9). X1 has  8 records.**"
      ]
    },
    {
      "cell_type": "code",
      "metadata": {
        "id": "Mn8BrvxQXG2_",
        "colab_type": "code",
        "outputId": "4bfbc4af-9776-405e-9dfc-2bf41d3910b0",
        "colab": {
          "base_uri": "https://localhost:8080/",
          "height": 85
        }
      },
      "source": [
        "# Test confusion matrix for the Evaluate results\n",
        "unique, matrix = confusion_matrix(Y1, rounded)\n",
        "print_confusion_matrix(unique, matrix)\n",
        "\n"
      ],
      "execution_count": 0,
      "outputs": [
        {
          "output_type": "stream",
          "text": [
            "(A)0.0 1.0\n",
            "(P)-------\n",
            "0.0| 5 1\n",
            "1.0| 1 1\n"
          ],
          "name": "stdout"
        }
      ]
    },
    {
      "cell_type": "code",
      "metadata": {
        "id": "1qj6zFGLlENM",
        "colab_type": "code",
        "outputId": "3952dcef-55f5-4d13-d746-49d4d47038dd",
        "colab": {
          "base_uri": "https://localhost:8080/",
          "height": 255
        }
      },
      "source": [
        "# Print the Sequential model structure\n",
        "print(model.summary())"
      ],
      "execution_count": 0,
      "outputs": [
        {
          "output_type": "stream",
          "text": [
            "_________________________________________________________________\n",
            "Layer (type)                 Output Shape              Param #   \n",
            "=================================================================\n",
            "input_layer (Dense)          (None, 12)                108       \n",
            "_________________________________________________________________\n",
            "dense_5 (Dense)              (None, 8)                 104       \n",
            "_________________________________________________________________\n",
            "dense_6 (Dense)              (None, 1)                 9         \n",
            "=================================================================\n",
            "Total params: 221\n",
            "Trainable params: 221\n",
            "Non-trainable params: 0\n",
            "_________________________________________________________________\n",
            "None\n"
          ],
          "name": "stdout"
        }
      ]
    },
    {
      "cell_type": "markdown",
      "metadata": {
        "id": "1jOK1cJbxBlU",
        "colab_type": "text"
      },
      "source": [
        "**Step 10: How to install the GraphViz Library  http://www.graphviz.org/**\n",
        "\n"
      ]
    },
    {
      "cell_type": "code",
      "metadata": {
        "id": "VPlJouVfpcIX",
        "colab_type": "code",
        "colab": {}
      },
      "source": [
        "#!pip install -q pydot\n",
        "from keras.utils.vis_utils import plot_model\n",
        "#Prints the model to a file in the directory\n",
        "plot_model(model, to_file='/content/drive/My Drive/Colab Notebooks/model_plot3.png', show_shapes=True, show_layer_names=True)"
      ],
      "execution_count": 0,
      "outputs": []
    },
    {
      "cell_type": "markdown",
      "metadata": {
        "id": "FACsq3Oh_xDD",
        "colab_type": "text"
      },
      "source": [
        "**Further Reading:**\n",
        "About Colab: https://www.youtube.com/watch?v=inN8seMm7UI\n",
        "\n",
        "**Examples to run (These are not in Colab):**\n",
        "There are excellent examples in https://machinelearningmastery.com/tutorial-first-neural-network-python-keras/\n",
        "\n",
        "https://keras.io/getting-started/sequential-model-guide/#examples\n",
        "\n",
        "In the examples, you will also find example models for benchmark datasets:\n",
        "\n",
        "* CIFAR10 small images classification: Convolutional Neural Network (CNN) with realtime data augmentation\n",
        "\n",
        "* IMDB movie review sentiment classification: LSTM over sequences of words\n",
        "Reuters newswires topic classification: Multilayer Perceptron (MLP)\n",
        "\n",
        "* MNIST handwritten digits classification: MLP & CNN\n",
        "Character-level text generation with LSTM\n",
        "\n",
        "\n",
        "\n",
        "\n",
        "** *Many thanks to Jason Brownlee for providing excellent tutorials for machine learning and for providing permission to publish this tutorial. This tutorial is based on Jason Brownlee's Machine Learning Mastery tutorials https://machinelearningmastery.com   The website contains tutorials for Machine Learning.* ** \n",
        "\n"
      ]
    }
  ]
}